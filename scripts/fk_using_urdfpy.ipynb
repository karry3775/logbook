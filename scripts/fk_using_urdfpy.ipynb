{
 "cells": [
  {
   "cell_type": "code",
   "execution_count": 2,
   "id": "b7fd3264",
   "metadata": {},
   "outputs": [
    {
     "name": "stdout",
     "output_type": "stream",
     "text": [
      "l_shoulder_yaw\n",
      "r_shoulder_yaw\n",
      "l_shoulder_pitch\n",
      "r_shoulder_pitch\n",
      "l_shoulder_roll\n",
      "r_shoulder_roll\n",
      "l_elbow_pitch\n",
      "r_elbow_pitch\n",
      "l_wrist_yaw\n",
      "r_wrist_yaw\n",
      "l_wrist_pitch\n",
      "r_wrist_pitch\n",
      "OrderedDict([(<urdfpy.urdf.Link object at 0x721460524e50>, array([[1., 0., 0., 0.],\n",
      "       [0., 1., 0., 0.],\n",
      "       [0., 0., 1., 0.],\n",
      "       [0., 0., 0., 1.]])), (<urdfpy.urdf.Link object at 0x7214604cd160>, array([[ 1. ,  0. ,  0. ,  0. ],\n",
      "       [ 0. ,  1. ,  0. , -0.2],\n",
      "       [ 0. ,  0. ,  1. ,  0.2],\n",
      "       [ 0. ,  0. ,  0. ,  1. ]])), (<urdfpy.urdf.Link object at 0x721460524df0>, array([[1. , 0. , 0. , 0. ],\n",
      "       [0. , 1. , 0. , 0.2],\n",
      "       [0. , 0. , 1. , 0.2],\n",
      "       [0. , 0. , 0. , 1. ]])), (<urdfpy.urdf.Link object at 0x7214604cd8b0>, array([[ 1. ,  0. ,  0. ,  0. ],\n",
      "       [ 0. ,  1. ,  0. , -0.3],\n",
      "       [ 0. ,  0. ,  1. ,  0.2],\n",
      "       [ 0. ,  0. ,  0. ,  1. ]])), (<urdfpy.urdf.Link object at 0x721514270160>, array([[1. , 0. , 0. , 0. ],\n",
      "       [0. , 1. , 0. , 0.3],\n",
      "       [0. , 0. , 1. , 0.2],\n",
      "       [0. , 0. , 0. , 1. ]])), (<urdfpy.urdf.Link object at 0x7214604cd400>, array([[ 1. ,  0. ,  0. ,  0. ],\n",
      "       [ 0. ,  1. ,  0. , -0.4],\n",
      "       [ 0. ,  0. ,  1. ,  0.2],\n",
      "       [ 0. ,  0. ,  0. ,  1. ]])), (<urdfpy.urdf.Link object at 0x7215142843d0>, array([[1. , 0. , 0. , 0. ],\n",
      "       [0. , 1. , 0. , 0.4],\n",
      "       [0. , 0. , 1. , 0.2],\n",
      "       [0. , 0. , 0. , 1. ]])), (<urdfpy.urdf.Link object at 0x7214604cda60>, array([[ 1. ,  0. ,  0. ,  0. ],\n",
      "       [ 0. ,  1. ,  0. , -0.4],\n",
      "       [ 0. ,  0. ,  1. ,  0. ],\n",
      "       [ 0. ,  0. ,  0. ,  1. ]])), (<urdfpy.urdf.Link object at 0x721514284c70>, array([[1. , 0. , 0. , 0. ],\n",
      "       [0. , 1. , 0. , 0.4],\n",
      "       [0. , 0. , 1. , 0. ],\n",
      "       [0. , 0. , 0. , 1. ]])), (<urdfpy.urdf.Link object at 0x7214604cd430>, array([[ 1. ,  0. ,  0. ,  0. ],\n",
      "       [ 0. ,  1. ,  0. , -0.4],\n",
      "       [ 0. ,  0. ,  1. , -0.2],\n",
      "       [ 0. ,  0. ,  0. ,  1. ]])), (<urdfpy.urdf.Link object at 0x7214604cd7c0>, array([[ 1. ,  0. ,  0. ,  0. ],\n",
      "       [ 0. ,  1. ,  0. ,  0.4],\n",
      "       [ 0. ,  0. ,  1. , -0.2],\n",
      "       [ 0. ,  0. ,  0. ,  1. ]])), (<urdfpy.urdf.Link object at 0x7214604e3490>, array([[ 1. ,  0. ,  0. ,  0. ],\n",
      "       [ 0. ,  1. ,  0. , -0.4],\n",
      "       [ 0. ,  0. ,  1. , -0.4],\n",
      "       [ 0. ,  0. ,  0. ,  1. ]])), (<urdfpy.urdf.Link object at 0x7214604cdfd0>, array([[ 1. ,  0. ,  0. ,  0. ],\n",
      "       [ 0. ,  1. ,  0. ,  0.4],\n",
      "       [ 0. ,  0. ,  1. , -0.4],\n",
      "       [ 0. ,  0. ,  0. ,  1. ]]))])\n"
     ]
    }
   ],
   "source": [
    "from urdfpy import URDF\n",
    "import os\n",
    "\n",
    "os.environ[\"PYOPENGL_PLATFORM\"] = \"egl\"  # or \"osmesa\" for CPU-only\n",
    "\n",
    "urdf_file = \"sample.urdf\"\n",
    "robot = URDF.load(urdf_file)\n",
    "\n",
    "# Print links\n",
    "for link in robot.links:\n",
    "    # print(link.name)\n",
    "    pass\n",
    "\n",
    "# Print joints\n",
    "for joint in robot.joints:\n",
    "    # print(joint.name)\n",
    "    pass\n",
    "\n",
    "# Access actuated joints (ignoring the fixed joints)\n",
    "for joint in robot.actuated_joints:\n",
    "    print(joint.name)\n",
    "    pass\n",
    "\n",
    "# Doing forward kinematics\n",
    "fk = robot.link_fk()\n",
    "fk[robot.links[2]]\n",
    "print(fk)"
   ]
  },
  {
   "cell_type": "code",
   "execution_count": null,
   "id": "4b4af75b",
   "metadata": {},
   "outputs": [],
   "source": []
  }
 ],
 "metadata": {
  "kernelspec": {
   "display_name": "urdfpy_env",
   "language": "python",
   "name": "python3"
  },
  "language_info": {
   "codemirror_mode": {
    "name": "ipython",
    "version": 3
   },
   "file_extension": ".py",
   "mimetype": "text/x-python",
   "name": "python",
   "nbconvert_exporter": "python",
   "pygments_lexer": "ipython3",
   "version": "3.9.23"
  }
 },
 "nbformat": 4,
 "nbformat_minor": 5
}
