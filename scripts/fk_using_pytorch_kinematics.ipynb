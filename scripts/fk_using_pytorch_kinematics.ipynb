{
 "cells": [
  {
   "cell_type": "code",
   "execution_count": null,
   "id": "c5de552d",
   "metadata": {},
   "outputs": [],
   "source": [
    "import pytorch_kinematics as pk\n",
    "import math\n",
    "import torch\n",
    "\n",
    "\n",
    "# Loading robots\n",
    "urdf = \"sample.urdf\"\n",
    "chain = pk.build_chain_from_urdf(open(urdf, mode=\"rb\").read())\n",
    "\n",
    "chain.print_tree()\n",
    "\"\"\"\n",
    "root\n",
    "├── l_shoulder1\n",
    "│   └── l_shoulder2\n",
    "│       └── l_shoulder3\n",
    "│           └── l_elbow1\n",
    "│               └── l_wrist1\n",
    "│                   └── l_wrist2\n",
    "└── r_shoulder1\n",
    "    └── r_shoulder2\n",
    "        └── r_shoulder3\n",
    "            └── r_elbow1\n",
    "                └── r_wrist1\n",
    "                    └── r_wrist2\n",
    "\"\"\"\n",
    "\n",
    "## FK\n",
    "\n",
    "# Extract a sepcifical searial chain\n",
    "serial_chain = pk.SerialChain(chain, \"l_wrist2\", \"l_elbow1\")\n",
    "serial_chain.print_tree()\n",
    "\"\"\"\n",
    "l_elbow1\n",
    "└── l_wrist1\n",
    "    └── l_wrist2\n",
    "\"\"\"\n",
    "# Generate random joint variables\n",
    "batch_size=1\n",
    "q_random = torch.rand(batch_size, len(chain.get_joint_parameter_names()))\n",
    "print(q_random)\n",
    "\n",
    "ret = chain.forward_kinematics(q_random)\n",
    "print(ret) # Contains transformation rot, pos\n",
    "\n",
    "\n",
    "# Print a specific joint\n",
    "transform = ret['l_shoulder1'] # From the base, since that was the chain\n",
    "# Get it as a matrix\n",
    "m = transform.get_matrix()\n",
    "# Extract position and rotation\n",
    "pos = m[:,:3, 3]\n",
    "# Extract quaternion\n",
    "rot = pk.matrix_to_quaternion(m[:, :3, :3])\n"
   ]
  },
  {
   "cell_type": "code",
   "execution_count": null,
   "id": "f754ac7e",
   "metadata": {},
   "outputs": [],
   "source": []
  }
 ],
 "metadata": {
  "kernelspec": {
   "display_name": "pytorch_kin_env",
   "language": "python",
   "name": "python3"
  },
  "language_info": {
   "codemirror_mode": {
    "name": "ipython",
    "version": 3
   },
   "file_extension": ".py",
   "mimetype": "text/x-python",
   "name": "python",
   "nbconvert_exporter": "python",
   "pygments_lexer": "ipython3",
   "version": "3.11.13"
  }
 },
 "nbformat": 4,
 "nbformat_minor": 5
}
