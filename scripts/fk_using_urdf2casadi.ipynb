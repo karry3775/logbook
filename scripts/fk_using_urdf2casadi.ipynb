{
 "cells": [
  {
   "cell_type": "code",
   "execution_count": null,
   "id": "dee12609",
   "metadata": {},
   "outputs": [
    {
     "name": "stdout",
     "output_type": "stream",
     "text": [
      "T_fk:(i0[6])->(o0[4x4]) SXFunction\n"
     ]
    },
    {
     "data": {
      "text/plain": [
       "'\\nDM(\\n[[1, 0, 0, 0], \\n [0, 1, 0, -0.4], \\n [0, 0, 1, -0.4], \\n [0, 0, 0, 1]])\\n'"
      ]
     },
     "execution_count": 20,
     "metadata": {},
     "output_type": "execute_result"
    }
   ],
   "source": [
    "import casadi as cs\n",
    "from urdf2casadi import urdfparser as u2c\n",
    "import numpy as np\n",
    "\n",
    "urdf_path = \"sample.urdf\"\n",
    "robot_parser = u2c.URDFparser()\n",
    "robot_parser.from_file(urdf_path)\n",
    "\n",
    "# We can control which subchain we want from here\n",
    "root=\"root\"\n",
    "tip=\"r_wrist2\"\n",
    "\n",
    "fk_dict = robot_parser.get_forward_kinematics(root, tip)\n",
    "fk = fk_dict[\"T_fk\"]\n",
    "\n",
    "print(fk)\n",
    "# should print: T_fk:(i0[6])->(o0[4x4]) SXFunction\n",
    "# which means input is 6 vector, and output is a 4x4 matrix\n",
    "q = np.zeros(6)\n",
    "fk(q)\n",
    "\"\"\"\n",
    "DM(\n",
    "[[1, 0, 0, 0], \n",
    " [0, 1, 0, -0.4], \n",
    " [0, 0, 1, -0.4], \n",
    " [0, 0, 0, 1]])\n",
    "\"\"\""
   ]
  },
  {
   "cell_type": "code",
   "execution_count": null,
   "id": "17305616",
   "metadata": {},
   "outputs": [],
   "source": []
  }
 ],
 "metadata": {
  "kernelspec": {
   "display_name": "urdf2casadi_env",
   "language": "python",
   "name": "python3"
  },
  "language_info": {
   "codemirror_mode": {
    "name": "ipython",
    "version": 3
   },
   "file_extension": ".py",
   "mimetype": "text/x-python",
   "name": "python",
   "nbconvert_exporter": "python",
   "pygments_lexer": "ipython3",
   "version": "3.9.23"
  }
 },
 "nbformat": 4,
 "nbformat_minor": 5
}
