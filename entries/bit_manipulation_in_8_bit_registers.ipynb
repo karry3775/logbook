{
  "cells": [
    {
      "cell_type": "raw",
      "metadata": {},
      "source": [
        "---\n",
        "title: \"Bit manipulation in 8 bit registers\"\n",
        "description: \"***Last updated***: 2025-09-1\"\n",
        "format: html\n",
        "---"
      ],
      "id": "2dd7414b"
    },
    {
      "cell_type": "markdown",
      "metadata": {},
      "source": [
        "Context: Since bit manipulation can be broad. We will explore bit manipulation in the context of a 8-bit register\n",
        "\n",
        "# Defining bits in a 8-bit register\n",
        "\n",
        "We begin by defining individual bits, Here's a table showing both\n",
        "the decimal and hex values for each bit in the register.\n",
        "\n",
        "\\begin{array}{|l|l|l|}\n",
        "\\hline\n",
        "\\text{BIT number} & \\text{Decimal} & \\text{Hex} \\\\\n",
        "\\hline\n",
        "\\text{BIT 0} & 1 & \\text{0x01} \\\\\n",
        "\\text{BIT 1} & 2 & \\text{0x02} \\\\\n",
        "\\text{BIT 2} & 4 & \\text{0x04} \\\\\n",
        "\\text{BIT 3} & 8 & \\text{0x08} \\\\\n",
        "\\text{BIT 4} & 16 & \\text{0x10} \\\\\n",
        "\\text{BIT 5} & 32 & \\text{0x20} \\\\\n",
        "\\text{BIT 6} & 64 & \\text{0x40} \\\\\n",
        "\\text{BIT 7} & 128 & \\text{0x80} \\\\\n",
        "\\hline\n",
        "\\end{array}\n",
        "\n",
        "```cpp\n",
        "#include <stdint.h>\n",
        "\n",
        "uint8_t BIT0 = 0x01;\n",
        "uint8_t BIT1 = 0x02;\n",
        "uint8_t BIT2 = 0x04;\n",
        "uint8_t BIT3 = 0x08;\n",
        "uint8_t BIT4 = 0x10;\n",
        "uint8_t BIT5 = 0x20;\n",
        "uint8_t BIT6 = 0x40;\n",
        "uint8_t BIT7 = 0x80;\n",
        "```\n",
        "\n",
        "# Reading from a register\n",
        "\n",
        "Bit manipulation allows us to read an individual value from a give register,\n",
        "\n",
        "\n",
        "```{c}\n",
        "#| eval: false\n",
        "\n",
        "```"
      ],
      "id": "f74b63d5"
    }
  ],
  "metadata": {
    "kernelspec": {
      "name": "python3",
      "language": "python",
      "display_name": "Python 3 (ipykernel)"
    }
  },
  "nbformat": 4,
  "nbformat_minor": 5
}